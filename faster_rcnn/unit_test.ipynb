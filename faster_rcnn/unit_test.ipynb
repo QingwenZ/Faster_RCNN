{
 "cells": [
  {
   "cell_type": "markdown",
   "metadata": {},
   "source": [
    "## Notebook Basics\n",
    "* Command mode $\\leftrightarrow$ Edit mode: `Esc` to command mode, `Enter` to edit mode\n",
    "* Code $\\leftrightarrow$ Markdown: `Esc` + `M` to markdown, `Esc` + `Y` to code, `Enter` to edit\n",
    "In command mode:\n",
    "* `H` show help\n",
    "* Run: \n",
    "    * `shift` + `Enter` run current & go to next\n",
    "    * `ctrl` + `Enter` run current\n",
    "    * `option` + `Enter` run current & insert below\n",
    "\n",
    "* Cell:\n",
    "    * `A`/`B` insert above/below\n",
    "    * `X`/`C`/`V`/`D+D`, cut/copy/paste/delete\n",
    "    * `ctrl` + `shift` + `-` split cell (in edit mode)\n",
    "    * `shift` + `M` merge cells (with below)\n",
    "    * `shift` + `+`/`-` select cells, or `shift` + click to select\n",
    "    * `L` line number"
   ]
  },
  {
   "cell_type": "markdown",
   "metadata": {},
   "source": [
    "## Load Pretrained ResNet101"
   ]
  },
  {
   "cell_type": "code",
   "execution_count": 67,
   "metadata": {},
   "outputs": [
    {
     "name": "stdout",
     "output_type": "stream",
     "text": [
      "The autoreload extension is already loaded. To reload it, use:\n",
      "  %reload_ext autoreload\n",
      "model exists. loading at: resnet101-5d3b4d8f.pth\n"
     ]
    }
   ],
   "source": [
    "%load_ext autoreload\n",
    "%autoreload 2\n",
    "\n",
    "import torch.nn as nn\n",
    "from config import Config as cfg\n",
    "from resnet import resnet_loader\n",
    "\n",
    "resnet = resnet_loader(arch='resnet101', pretrained=True)\n",
    "\n",
    "cnn1 = nn.Sequential(\n",
    "    resnet.conv1,\n",
    "    resnet.bn1,\n",
    "    resnet.relu,\n",
    "    resnet.maxpool,\n",
    "    resnet.layer1,\n",
    "    resnet.layer2,\n",
    "    resnet.layer3\n",
    ")\n",
    "# Freeze all pretrained layers\n",
    "for param in cnn1.parameters():\n",
    "    param.requires_grad = False\n",
    "    \n",
    "cnn2 = nn.Sequential(\n",
    "    resnet.layer4,\n",
    "    #nn.AvgPool2d(cfg.POOLING_SIZE) # 7\n",
    ")"
   ]
  },
  {
   "cell_type": "markdown",
   "metadata": {},
   "source": [
    "## Unit Tests for Faster RCNN"
   ]
  },
  {
   "cell_type": "code",
   "execution_count": 68,
   "metadata": {},
   "outputs": [
    {
     "name": "stdout",
     "output_type": "stream",
     "text": [
      "The autoreload extension is already loaded. To reload it, use:\n",
      "  %reload_ext autoreload\n",
      "images.shape: torch.Size([2, 3, 600, 800])\n",
      "feature_map.shape: torch.Size([2, 1024, 38, 50])\n",
      "gt_boxes.shape: torch.Size([2, 20, 4])\n",
      "gt_classes.shape: torch.Size([2, 20])\n"
     ]
    }
   ],
   "source": [
    "%load_ext autoreload\n",
    "%autoreload 2 # put this line in cell s.t. local changes will be reflected in notebook w/o restart kernel\n",
    "\n",
    "import torch\n",
    "\n",
    "N = 2 # use small batch size for test\n",
    "C, c = 3, 1024\n",
    "H, W = 600, 800\n",
    "h, w = round(H/16.0), round(W/16.0)\n",
    "N_GT = 20 # each image has 20 gt boxes, thus 20 gt class labels as well\n",
    "N_CLASS = 21 # 21 different classes\n",
    "\n",
    "images = torch.abs(torch.randn(N*C*H*W).view(N,C,H,W))\n",
    "feature_map = torch.abs(torch.randn(N*c*h*w).view(N,c,h,w))\n",
    "gt_boxes = torch.ones(N,N_GT,4).float() # remember to make gt_boxes as float!\n",
    "gt_boxes[:,:,2] = 50\n",
    "gt_boxes[:,:,3] = 50\n",
    "gt_classes = torch.randint(0,N_CLASS, (N,N_GT))\n",
    "\n",
    "print(\"images.shape:\", images.shape)\n",
    "print(\"feature_map.shape:\", feature_map.shape)\n",
    "print(\"gt_boxes.shape:\", gt_boxes.shape)\n",
    "print(\"gt_classes.shape:\", gt_classes.shape)"
   ]
  },
  {
   "cell_type": "markdown",
   "metadata": {},
   "source": [
    "### 1.1 Anchor Generation"
   ]
  },
  {
   "cell_type": "code",
   "execution_count": 69,
   "metadata": {},
   "outputs": [
    {
     "name": "stdout",
     "output_type": "stream",
     "text": [
      "anchors.shape: torch.Size([17100, 4]) dtype torch.FloatTensor\n"
     ]
    }
   ],
   "source": [
    "from rpn.anchor_generation import AnchorGeneration\n",
    "\n",
    "anchors = AnchorGeneration().generate_all()\n",
    "print(\"anchors.shape:\", anchors.shape, \"dtype\", anchors.type())"
   ]
  },
  {
   "cell_type": "markdown",
   "metadata": {},
   "source": [
    "### 1.2 Proposal"
   ]
  },
  {
   "cell_type": "code",
   "execution_count": 70,
   "metadata": {},
   "outputs": [
    {
     "name": "stdout",
     "output_type": "stream",
     "text": [
      "anchors.shape: torch.Size([17100, 4])\n",
      "bbox_score.shape: torch.Size([2, 17100, 2])\n",
      "bbox_coeff.shape: torch.Size([2, 17100, 4])\n"
     ]
    }
   ],
   "source": [
    "import torch\n",
    "from rpn.proposal import Proposal\n",
    "\n",
    "A = anchors.size(0)\n",
    "\n",
    "bbox_score = torch.randn(N*A*2).view(N,A,2)\n",
    "bbox_coeff = torch.randn(N*A*4).view(N,A,4)\n",
    "print(\"anchors.shape:\", anchors.shape)\n",
    "print(\"bbox_score.shape:\", bbox_score.shape)\n",
    "print(\"bbox_coeff.shape:\", bbox_coeff.shape)"
   ]
  },
  {
   "cell_type": "code",
   "execution_count": 71,
   "metadata": {},
   "outputs": [
    {
     "name": "stdout",
     "output_type": "stream",
     "text": [
      "rois_scores.shape: torch.Size([2, 300, 1])\n",
      "rois.shape: torch.Size([2, 300, 4])\n"
     ]
    }
   ],
   "source": [
    "rois_scores, rois = Proposal().forward(anchors, bbox_score, bbox_coeff)\n",
    "print(\"rois_scores.shape:\", rois_scores.shape)\n",
    "print(\"rois.shape:\", rois.shape)"
   ]
  },
  {
   "cell_type": "markdown",
   "metadata": {},
   "source": [
    "### 1.3 Anchor Refinement"
   ]
  },
  {
   "cell_type": "code",
   "execution_count": 72,
   "metadata": {},
   "outputs": [
    {
     "name": "stdout",
     "output_type": "stream",
     "text": [
      "labels.shape: torch.Size([2, 5740])\n",
      "target_coeffs.shape: torch.Size([2, 5740, 4])\n",
      "anchors_idx.shape: torch.Size([5740])\n"
     ]
    }
   ],
   "source": [
    "%autoreload 2\n",
    "from rpn.anchor_refine import AnchorRefine\n",
    "\n",
    "labels, target_coeffs, anchors_idx = AnchorRefine().forward(anchors, gt_boxes)\n",
    "print(\"labels.shape:\", labels.shape)\n",
    "print(\"target_coeffs.shape:\", target_coeffs.shape)\n",
    "print(\"anchors_idx.shape:\", anchors_idx.shape)"
   ]
  },
  {
   "cell_type": "markdown",
   "metadata": {},
   "source": [
    "### 1.4 Proposal Refinement"
   ]
  },
  {
   "cell_type": "code",
   "execution_count": 73,
   "metadata": {},
   "outputs": [
    {
     "name": "stdout",
     "output_type": "stream",
     "text": [
      "rois.shape: torch.Size([2, 128, 4])\n",
      "rois_labels.shape: torch.Size([2, 128])\n",
      "rois_coeffs.shape: torch.Size([2, 128, 84])\n"
     ]
    }
   ],
   "source": [
    "%autoreload 2\n",
    "from rpn.proposal_refine import ProposalRefine\n",
    "\n",
    "rois_test, rois_labels, rois_coeffs = ProposalRefine().forward(rois, gt_boxes, gt_classes)\n",
    "print(\"rois.shape:\", rois_test.shape)\n",
    "print(\"rois_labels.shape:\", rois_labels.shape)\n",
    "print(\"rois_coeffs.shape:\", rois_coeffs.shape)"
   ]
  },
  {
   "cell_type": "markdown",
   "metadata": {},
   "source": [
    "### 1. RPN"
   ]
  },
  {
   "cell_type": "code",
   "execution_count": 74,
   "metadata": {},
   "outputs": [
    {
     "name": "stdout",
     "output_type": "stream",
     "text": [
      "rois_rpn.shape: torch.Size([2, 128, 4])\n",
      "rois_labels.shape: torch.Size([2, 128])\n",
      "rois_coeffs.shape: torch.Size([2, 128, 84])\n",
      "rpn_loss: tensor(0.9668, grad_fn=<DivBackward0>)\n"
     ]
    }
   ],
   "source": [
    "%autoreload 2\n",
    "\n",
    "from rpn.rpn import RPN\n",
    "\n",
    "rois_rpn, rois_labels, rois_coeffs, rpn_loss = RPN().forward(feature_map, gt_boxes, gt_classes)\n",
    "print(\"rois_rpn.shape:\", rois_rpn.shape)\n",
    "print(\"rois_labels.shape:\", rois_labels.shape)\n",
    "print(\"rois_coeffs.shape:\", rois_coeffs.shape)\n",
    "print(\"rpn_loss:\", rpn_loss)"
   ]
  },
  {
   "cell_type": "markdown",
   "metadata": {},
   "source": [
    "### 2. RoI Pooling"
   ]
  },
  {
   "cell_type": "code",
   "execution_count": 75,
   "metadata": {},
   "outputs": [
    {
     "name": "stdout",
     "output_type": "stream",
     "text": [
      "crops.shape: torch.Size([2, 128, 1024, 7, 7])\n"
     ]
    }
   ],
   "source": [
    "%autoreload 2\n",
    "\n",
    "from roi_pooling import RoIPooling\n",
    "\n",
    "crops = RoIPooling().forward(rois_test, feature_map)\n",
    "print(\"crops.shape:\", crops.shape)"
   ]
  },
  {
   "cell_type": "markdown",
   "metadata": {},
   "source": [
    "### 3. Classification"
   ]
  },
  {
   "cell_type": "code",
   "execution_count": 76,
   "metadata": {},
   "outputs": [
    {
     "name": "stdout",
     "output_type": "stream",
     "text": [
      "pred_rois_scores.shape: torch.Size([2, 128, 21])\n",
      "pred_rois_coeffs.shape: torch.Size([2, 128, 84])\n"
     ]
    }
   ],
   "source": [
    "%autoreload 2\n",
    "\n",
    "from classification import Classification\n",
    "\n",
    "pred_rois_scores, pred_rois_coeffs = Classification(cnn2).forward(crops)\n",
    "print(\"pred_rois_scores.shape:\", pred_rois_scores.shape)\n",
    "print(\"pred_rois_coeffs.shape:\", pred_rois_coeffs.shape)"
   ]
  },
  {
   "cell_type": "markdown",
   "metadata": {},
   "source": [
    "## Faster R-CNN"
   ]
  },
  {
   "cell_type": "code",
   "execution_count": 77,
   "metadata": {},
   "outputs": [
    {
     "name": "stdout",
     "output_type": "stream",
     "text": [
      "model exists. loading at: resnet101-5d3b4d8f.pth\n",
      "rois_rcnn.shape: torch.Size([2, 128, 4])\n",
      "pred_rois_classes.shape: torch.Size([2, 128])\n",
      "pred_rois_coeffs.shape: torch.Size([2, 128, 84])\n",
      "rcnn_loss: tensor(4.0090, grad_fn=<AddBackward0>)\n"
     ]
    }
   ],
   "source": [
    "%autoreload 2\n",
    "\n",
    "from model import FasterRCNN\n",
    "\n",
    "rois_rcnn, pred_rois_classes, pred_rois_coeffs, rcnn_loss = FasterRCNN().forward(images, gt_boxes, gt_classes)\n",
    "print(\"rois_rcnn.shape:\", rois_rcnn.shape)\n",
    "print(\"pred_rois_classes.shape:\", pred_rois_classes.shape)\n",
    "print(\"pred_rois_coeffs.shape:\", pred_rois_coeffs.shape)\n",
    "print(\"rcnn_loss:\", rcnn_loss)"
   ]
  }
 ],
 "metadata": {
  "kernelspec": {
   "display_name": "Python 3",
   "language": "python",
   "name": "python3"
  },
  "language_info": {
   "codemirror_mode": {
    "name": "ipython",
    "version": 3
   },
   "file_extension": ".py",
   "mimetype": "text/x-python",
   "name": "python",
   "nbconvert_exporter": "python",
   "pygments_lexer": "ipython3",
   "version": "3.7.4"
  }
 },
 "nbformat": 4,
 "nbformat_minor": 2
}
